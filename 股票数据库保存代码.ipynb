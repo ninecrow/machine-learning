{
 "cells": [
  {
   "cell_type": "code",
   "execution_count": 6,
   "metadata": {},
   "outputs": [
    {
     "name": "stdout",
     "output_type": "stream",
     "text": [
      "Engine(sqlite:///D:\\workspace\\600754.db?check_same_thread=False)\n"
     ]
    }
   ],
   "source": [
    "from sqlalchemy import create_engine\n",
    "\n",
    "engine = create_engine('sqlite:///D:\\\\workspace\\\\600754.db?check_same_thread=False', echo=True)\n",
    "print(engine)"
   ]
  },
  {
   "cell_type": "code",
   "execution_count": 30,
   "metadata": {},
   "outputs": [],
   "source": [
    "from sqlalchemy import Table, Column, Integer, String, Float, Date, MetaData, ForeignKey\n",
    "metadata = MetaData()\n",
    "daily = Table('daily', metadata,\n",
    "              Column('id', Integer, primary_key=True),\n",
    "              Column('ts_code', String),\n",
    "              Column('trade_date', String),\n",
    "              Column('open',Float),\n",
    "              Column('high',Float),\n",
    "              Column('forecast_high',Float),\n",
    "              Column('low',Float),\n",
    "              Column('forecast_low',Float),\n",
    "              Column('close',Float),\n",
    "              Column('pre_close',Float),\n",
    "              Column('change',Float),\n",
    "              Column('pct_chg',Float),\n",
    "              Column('vol',Float),\n",
    "              Column('amount',Float),\n",
    "              Column('turnover_rate',Float),\n",
    "              Column('volume_ratio',Float)\n",
    "     )"
   ]
  },
  {
   "cell_type": "code",
   "execution_count": 31,
   "metadata": {},
   "outputs": [
    {
     "name": "stdout",
     "output_type": "stream",
     "text": [
      "2021-01-12 01:05:05,896 INFO sqlalchemy.engine.base.Engine SELECT daily.id, daily.ts_code, daily.trade_date, daily.open, daily.high, daily.forecast_high, daily.low, daily.forecast_low, daily.close, daily.pre_close, daily.change, daily.pct_chg, daily.vol, daily.amount, daily.turnover_rate, daily.volume_ratio \n",
      "FROM daily\n",
      "2021-01-12 01:05:05,897 INFO sqlalchemy.engine.base.Engine ()\n",
      "(1, '600754.SH', '20210104', 50.96, 52.33, None, 50.15, None, 50.72, 51.53, -0.81, -1.5719, 43863.28, 224237.36, 0.547, 1.05)\n"
     ]
    }
   ],
   "source": [
    "from sqlalchemy.sql import select\n",
    "conn = engine.connect()\n",
    "s = select([daily])\n",
    "result = conn.execute(s)\n",
    "\n",
    "for row in result:\n",
    "  print(row)"
   ]
  },
  {
   "cell_type": "code",
   "execution_count": 23,
   "metadata": {},
   "outputs": [
    {
     "name": "stdout",
     "output_type": "stream",
     "text": [
      "2021-01-11 00:52:20,118 INFO sqlalchemy.engine.base.Engine INSERT INTO daily (ts_code, trade_date, open, high, low, close, pre_close, change, pct_chg, vol, amount) VALUES (?, ?, ?, ?, ?, ?, ?, ?, ?, ?, ?)\n",
      "2021-01-11 00:52:20,122 INFO sqlalchemy.engine.base.Engine ('600754', '2021-01-11', 0.0, 0.0, 0.0, 0.0, 0.0, 0.0, 0.0, 0.0, 0.0)\n",
      "2021-01-11 00:52:21,167 INFO sqlalchemy.engine.base.Engine COMMIT\n"
     ]
    }
   ],
   "source": [
    "import time\n",
    "import datetime\n",
    "ins = daily.insert()\n",
    "ins = daily.insert().values(ts_code='600754', trade_date=datetime.datetime.now(),open=0,high=0,low=0,close=0,pre_close=0,change=0,pct_chg=0,vol=0,amount=0)\n",
    "str(ins)\n",
    "result = conn.execute(ins)"
   ]
  },
  {
   "cell_type": "code",
   "execution_count": null,
   "metadata": {},
   "outputs": [],
   "source": [
    "from sqlalchemy import create_engine,Table, Column, Integer, String, Float, Date, MetaData, ForeignKey\n",
    "from sqlalchemy.sql import select\n",
    "\n",
    "engine = create_engine('sqlite:///D:\\\\workspace\\\\600754.db?check_same_thread=False', echo=True)\n",
    "print(engine)\n",
    "metadata = MetaData()\n",
    "daily_forecast = Table('daily_forecast', metadata,\n",
    "              Column('id', Integer, primary_key=True),\n",
    "              Column('ts_code', String),\n",
    "              Column('trade_date', String),\n",
    "              Column('high',Float),\n",
    "              Column('forecast_high',Float),\n",
    "              Column('low',Float),\n",
    "              Column('forecast_low',Float)\n",
    "     )\n",
    "\n",
    "#保存到数据库\n",
    "#print(df2)\n",
    "df2.fillna(0,inplace=True)\n",
    "#print(df2['ts_code'][0])\n",
    "#[51.38637638 53.13812886 53.97614544 53.7738867  51.64519087 52.1321496 ]\n",
    "conn = engine.connect()\n",
    "i = len(df2)\n",
    "while i<= len(df2):\n",
    "    if i==0:\n",
    "        break\n",
    "    print('i: '+ str(i))\n",
    "    #print('X_train_1[i-1]: '+str(X_train_1[i-1]))\n",
    "    ins = daily_forecast.insert().values(ts_code=df2['ts_code'][i-1],\n",
    "                                trade_date=df2['trade_date'][i-1],\n",
    "                                 high=df2['high'][i-1],\n",
    "                                #forecast_high=X_train_1[i-1],\n",
    "                                low=df2['low'][i-1],\n",
    "                               )\n",
    "    print(ins.compile().params)\n",
    "    result = conn.execute(ins)\n",
    "    i = i-1"
   ]
  },
  {
   "cell_type": "code",
   "execution_count": null,
   "metadata": {},
   "outputs": [],
   "source": [
    "stmt = daily_forecast.update().where(daily_forecast.c.trade_date == '20210112').values(forecast_high='10')\n",
    "print(stmt.compile().params)\n",
    "#conn.execute(stmt)"
   ]
  }
 ],
 "metadata": {
  "kernelspec": {
   "display_name": "Python 3",
   "language": "python",
   "name": "python3"
  },
  "language_info": {
   "codemirror_mode": {
    "name": "ipython",
    "version": 3
   },
   "file_extension": ".py",
   "mimetype": "text/x-python",
   "name": "python",
   "nbconvert_exporter": "python",
   "pygments_lexer": "ipython3",
   "version": "3.7.4"
  }
 },
 "nbformat": 4,
 "nbformat_minor": 2
}
